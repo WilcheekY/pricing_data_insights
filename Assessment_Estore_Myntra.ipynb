{
  "cells": [
    {
      "cell_type": "markdown",
      "metadata": {
        "id": "7xJXvjWsM67C"
      },
      "source": [
        "### Imports"
      ]
    },
    {
      "cell_type": "code",
      "execution_count": null,
      "metadata": {
        "id": "UQ1SdDvAM67G"
      },
      "outputs": [],
      "source": [
        "from bs4 import BeautifulSoup\n",
        "import requests\n",
        "import pandas as pd\n",
        "import urllib.parse"
      ]
    },
    {
      "cell_type": "markdown",
      "metadata": {
        "id": "wg_Mhl92M67H"
      },
      "source": [
        "### HTTP Request"
      ]
    },
    {
      "cell_type": "markdown",
      "metadata": {
        "id": "9LoTu6fWM67I"
      },
      "source": [
        "#### store website in variable"
      ]
    },
    {
      "cell_type": "code",
      "execution_count": null,
      "metadata": {
        "id": "ZRAPQlB_M67I"
      },
      "outputs": [],
      "source": [
        "website = 'https://www.myntra.com/womens-western-wear'"
      ]
    },
    {
      "cell_type": "markdown",
      "metadata": {
        "id": "bW72cZr5M67J"
      },
      "source": [
        "#### Get Request"
      ]
    },
    {
      "cell_type": "code",
      "execution_count": null,
      "metadata": {
        "id": "TM5AAt-cM67K"
      },
      "outputs": [],
      "source": [
        "response = requests.get(website)"
      ]
    },
    {
      "cell_type": "markdown",
      "metadata": {
        "id": "SHkHanihM67K"
      },
      "source": [
        "#### Status Code"
      ]
    },
    {
      "cell_type": "code",
      "execution_count": null,
      "metadata": {
        "id": "ZgXlI5RsM67K"
      },
      "outputs": [],
      "source": [
        "response.status_code"
      ]
    },
    {
      "cell_type": "markdown",
      "metadata": {
        "id": "KUJCobhMM67M"
      },
      "source": [
        "### Soup Object"
      ]
    },
    {
      "cell_type": "code",
      "execution_count": null,
      "metadata": {
        "id": "KHr9bU5zM67N"
      },
      "outputs": [],
      "source": [
        "soup = BeautifulSoup(response.content, 'html.parser')"
      ]
    },
    {
      "cell_type": "code",
      "execution_count": null,
      "metadata": {
        "id": "a7YciK8CM67N"
      },
      "outputs": [],
      "source": []
    },
    {
      "cell_type": "markdown",
      "metadata": {
        "id": "6oUrHcqLM67N"
      },
      "source": [
        "### Results"
      ]
    },
    {
      "cell_type": "code",
      "execution_count": null,
      "metadata": {
        "id": "FXGhX3vIM67N"
      },
      "outputs": [],
      "source": [
        "results = soup.find_all('div', {'class':'OfferBox'})"
      ]
    },
    {
      "cell_type": "code",
      "execution_count": null,
      "metadata": {
        "id": "SeQQ3QXyM67O"
      },
      "outputs": [],
      "source": [
        "# length\n",
        "len(results)"
      ]
    },
    {
      "cell_type": "code",
      "execution_count": null,
      "metadata": {
        "id": "5Ujupcp6M67O"
      },
      "outputs": [],
      "source": [
        "results[1]"
      ]
    },
    {
      "cell_type": "markdown",
      "metadata": {
        "id": "hcTdu8EUM67P"
      },
      "source": [
        "### Target necessary data"
      ]
    },
    {
      "cell_type": "code",
      "execution_count": null,
      "metadata": {
        "id": "EYT4QV-cM67P"
      },
      "outputs": [],
      "source": [
        "# Name\n",
        "# Price\n",
        "# Product Link\n",
        "# Product Details"
      ]
    },
    {
      "cell_type": "markdown",
      "metadata": {
        "id": "ZFC0viUKM67P"
      },
      "source": [
        "#### Name"
      ]
    },
    {
      "cell_type": "code",
      "execution_count": null,
      "metadata": {
        "id": "-2GWSEQtM67Q"
      },
      "outputs": [],
      "source": [
        "results[0].find('a', {'class':'offerboxtitle'}).get_text()"
      ]
    },
    {
      "cell_type": "markdown",
      "metadata": {
        "id": "vsGAJZrDM67Q"
      },
      "source": [
        "#### Price"
      ]
    },
    {
      "cell_type": "code",
      "execution_count": null,
      "metadata": {
        "id": "in9sP4T5M67Q"
      },
      "outputs": [],
      "source": [
        "results[0].find('span', {'class':'offerprice'}).get_text()"
      ]
    },
    {
      "cell_type": "markdown",
      "metadata": {
        "id": "CFVF8xk5M67R"
      },
      "source": [
        "#### Review Rating"
      ]
    },
    {
      "cell_type": "code",
      "execution_count": null,
      "metadata": {
        "id": "KT5tDNgBM67R"
      },
      "outputs": [],
      "source": [
        "results[0].find('star-rating').get('rating-value')"
      ]
    },
    {
      "cell_type": "markdown",
      "metadata": {
        "id": "t3DCEHyrM67S"
      },
      "source": [
        "#### Review Count"
      ]
    },
    {
      "cell_type": "code",
      "execution_count": null,
      "metadata": {
        "id": "uzl5iMbLM67S"
      },
      "outputs": [],
      "source": [
        "results[0].find('star-rating').get('ratings-count')"
      ]
    },
    {
      "cell_type": "markdown",
      "metadata": {
        "id": "lZXZy10uM67S"
      },
      "source": [
        "#### Relative URL"
      ]
    },
    {
      "cell_type": "code",
      "execution_count": null,
      "metadata": {
        "id": "wVPOwD16M67T"
      },
      "outputs": [],
      "source": [
        "relative_url = results[0].find('a', {'class':'offerboxtitle'}).get('href')"
      ]
    },
    {
      "cell_type": "code",
      "execution_count": null,
      "metadata": {
        "id": "OY-BK5qrM67T"
      },
      "outputs": [],
      "source": [
        "relative_url"
      ]
    },
    {
      "cell_type": "code",
      "execution_count": null,
      "metadata": {
        "id": "i_f_tTbkM67T"
      },
      "outputs": [],
      "source": [
        "root_url = 'https://www.myntra.com/'"
      ]
    },
    {
      "cell_type": "code",
      "execution_count": null,
      "metadata": {
        "id": "7x_h09YKM67T"
      },
      "outputs": [],
      "source": [
        "# combine URLs\n",
        "url_combined = root_url + relative_url"
      ]
    },
    {
      "cell_type": "code",
      "execution_count": null,
      "metadata": {
        "id": "3V-Emk4lM67T"
      },
      "outputs": [],
      "source": [
        "url_combined"
      ]
    },
    {
      "cell_type": "markdown",
      "metadata": {
        "id": "XFBey0fuM67U"
      },
      "source": [
        "#### Product Details"
      ]
    },
    {
      "cell_type": "code",
      "execution_count": null,
      "metadata": {
        "id": "1r08Re2xM67U"
      },
      "outputs": [],
      "source": [
        "results[0].find('div', {'class':'productInfo'}).get_text().strip().replace('\\n',', ')"
      ]
    },
    {
      "cell_type": "markdown",
      "metadata": {
        "id": "fW__VaRsM67W"
      },
      "source": [
        "### Create Pandas Dataframe"
      ]
    },
    {
      "cell_type": "code",
      "execution_count": null,
      "metadata": {
        "id": "a4Pn-J4aM67l"
      },
      "outputs": [],
      "source": [
        "# pandas dataframe takes a dictionary\n",
        "# dictionary: key-value pair"
      ]
    },
    {
      "cell_type": "code",
      "execution_count": null,
      "metadata": {
        "id": "ljQJmsKmM67l"
      },
      "outputs": [],
      "source": [
        "product_overview = pd.DataFrame({'Name': product_name, 'Price':product_price, 'Link': url_combined, 'Details': product_details})"
      ]
    },
    {
      "cell_type": "code",
      "execution_count": null,
      "metadata": {
        "id": "CwdAxI7pM67l"
      },
      "outputs": [],
      "source": [
        "product_overview"
      ]
    },
    {
      "cell_type": "markdown",
      "metadata": {
        "id": "fbiKd6t9M67m"
      },
      "source": [
        "### Output in Excel"
      ]
    },
    {
      "cell_type": "code",
      "execution_count": null,
      "metadata": {
        "id": "IOjBJpGLM67m"
      },
      "outputs": [],
      "source": [
        "product_overview.to_excel('Bestseller_.xlsx', index=False)"
      ]
    },
    {
      "cell_type": "code",
      "execution_count": null,
      "metadata": {
        "id": "2XmC4-apM67m"
      },
      "outputs": [],
      "source": []
    }
  ],
  "metadata": {
    "kernelspec": {
      "display_name": "Python 3",
      "language": "python",
      "name": "python3"
    },
    "language_info": {
      "codemirror_mode": {
        "name": "ipython",
        "version": 3
      },
      "file_extension": ".py",
      "mimetype": "text/x-python",
      "name": "python",
      "nbconvert_exporter": "python",
      "pygments_lexer": "ipython3",
      "version": "3.9.2"
    },
    "colab": {
      "provenance": []
    }
  },
  "nbformat": 4,
  "nbformat_minor": 0
}